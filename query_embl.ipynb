{
 "cells": [
  {
   "cell_type": "markdown",
   "id": "d1d4dbb9",
   "metadata": {},
   "source": [
    "# The Plan "
   ]
  },
  {
   "cell_type": "markdown",
   "id": "7a4e6481",
   "metadata": {},
   "source": [
    "![schema](assets/schema.png)"
   ]
  },
  {
   "cell_type": "markdown",
   "id": "da1d09e7",
   "metadata": {},
   "source": [
    "## Imports"
   ]
  },
  {
   "cell_type": "code",
   "execution_count": 1,
   "id": "93b9654f",
   "metadata": {},
   "outputs": [],
   "source": [
    "import requests\n",
    "import math\n",
    "import pandas as pd\n",
    "from tqdm.notebook import tqdm\n",
    "import time\n",
    "import json\n",
    "import io"
   ]
  },
  {
   "cell_type": "code",
   "execution_count": 2,
   "id": "0516f0db",
   "metadata": {},
   "outputs": [],
   "source": [
    "start = 0\n",
    "end = 50000"
   ]
  },
  {
   "cell_type": "markdown",
   "id": "1cd28c70",
   "metadata": {},
   "source": [
    "## Functions\n",
    "Query Ensembl <br>\n",
    "Query Uniprot"
   ]
  },
  {
   "cell_type": "code",
   "execution_count": 3,
   "id": "0cd18b41",
   "metadata": {},
   "outputs": [],
   "source": [
    "# Find all the genes on a chromosome region\n",
    "def find_genes(chrom, start, end):\n",
    "    embl = \"https://rest.ensembl.org\"\n",
    "    q = \"/overlap/region/human/{0}:{1}-{2}?feature=gene\"\n",
    "    re = requests.get(embl+q.format(chrom, start, end),\n",
    "                  headers={ \"Content-Type\" : \"application/json\"})\n",
    "    \n",
    "    if not re.ok:        \n",
    "        re.raise_for_status()\n",
    "        sys.exit()\n",
    "    \n",
    "    return pd.DataFrame.from_records(re.json())\n",
    "\n",
    "#Find the gene sequences of a list of genes\n",
    "def get_gene_seqs(gene_list):\n",
    "    server = \"https://rest.ensembl.org\"\n",
    "    ext = \"/sequence/id\"\n",
    "    headers={ \"Content-Type\" : \"application/json\", \"Accept\" : \"application/json\"}\n",
    "    \n",
    "    records = []\n",
    "    #POST has max requst size of 50 objects\n",
    "    for i in range(math.ceil(len(gene_list)/50)):\n",
    "        #limit polling rate\n",
    "        if i % 25 == 0:\n",
    "            time.sleep(1)\n",
    "            \n",
    "        ind = i*50\n",
    "        post_data = json.dumps({\"ids\":gene_list[ind: ind+50], \"type\": [\"genomic\"]})                   \n",
    "        re = requests.post(server+ext, headers=headers,\n",
    "                          data=post_data)\n",
    "        if not re.ok:        \n",
    "            re.raise_for_status()\n",
    "            sys.exit()\n",
    "        \n",
    "        for r in re.json():\n",
    "            records.append(r)\n",
    "    \n",
    "    return pd.DataFrame.from_records(records)\n",
    "\n",
    "# Find all variants that overlap a gene\n",
    "def find_variants(gene_id):\n",
    "    embl = \"https://rest.ensembl.org\"\n",
    "    q = \"/overlap/id/{0}?feature=variation;\"\n",
    "    re = requests.get(embl + q.format(gene_id), \n",
    "                     headers={ \"Content-Type\" : \"application/json\"})\n",
    "    if not re.ok:        \n",
    "        re.raise_for_status()\n",
    "        sys.exit()\n",
    "    \n",
    "    df = pd.DataFrame.from_records(re.json())\n",
    "    df['gene_id'] = gene_id\n",
    "    return df\n",
    "\n",
    "# Find all variants from a list of genes\n",
    "def find_gene_variants(gene_list):\n",
    "    dfs = []\n",
    "    for i, gene_id in tqdm(enumerate(gene_list)):\n",
    "        # limit rate\n",
    "        if i % 25 == 0:\n",
    "            time.sleep(1)\n",
    "        dfs.append(find_variants(gene_id))\n",
    "    return pd.concat(dfs)\n",
    "\n",
    "# Find missing info from a list of variants. \n",
    "def expand_variant_info(var_list):\n",
    "    server = \"https://rest.ensembl.org\"\n",
    "    ext = \"/variation/homo_sapiens\"\n",
    "    headers={ \"Content-Type\" : \"application/json\", \"Accept\" : \"application/json\"}\n",
    "    # Get Variant Type by POST, limit 200 queries per post\n",
    "    frames = []\n",
    "    print(\"Querying variants in chunks...\")\n",
    "    for i in tqdm(range(math.ceil(len(var_list)/200))):\n",
    "        #limit polling rate\n",
    "        if i % 25 == 0:\n",
    "            time.sleep(1)            \n",
    "        ind = i*200\n",
    "        post_data = json.dumps({\"ids\":var_list[ind: ind+200]})  \n",
    "\n",
    "        re = requests.post(server+ext, headers=headers, data=post_data)\n",
    "        if not re.ok:\n",
    "            re.raise_for_status()\n",
    "            sys.exit()\n",
    "        frames.append(pd.DataFrame.from_records(re.json()).T)\n",
    "    return pd.concat(frames)\n",
    "\n",
    "# Find Uniprot accessions from a list of transcript IDs\n",
    "def get_uniprot_accessions(transcript_list):\n",
    "    server = 'https://www.uniprot.org/uploadlists/'\n",
    "    #Convert Ensembl Transcript ID to UniprotKB accession\n",
    "    data = {\n",
    "        'to': 'ACC',\n",
    "        'from': 'ENSEMBL_TRS_ID',\n",
    "        'format': 'tab',\n",
    "        'query': ' '.join(transcript_list)\n",
    "        }\n",
    "    re = requests.post(server, data=data)\n",
    "    if not re.ok:        \n",
    "        re.raise_for_status()\n",
    "        sys.exit()\n",
    "    df = pd.read_table(io.StringIO(re.text))\n",
    "    df.rename({'From': 'ensembl_ID', 'To': \"UniprotKB\"}, axis=1, inplace=True)\n",
    "    return df\n",
    "\n",
    "# Find Amino Acids sequences from a list of Uniprot IDs\n",
    "def get_protein_seqs(prot_list):\n",
    "    server = \"https://www.ebi.ac.uk/proteins/api/proteins/\"\n",
    "    print(\"Getting protein sequences. . .\")\n",
    "    records = []\n",
    "    for i, prot in tqdm(enumerate(prot_list)):\n",
    "        if i % 25 == 0:\n",
    "            time.sleep(1)\n",
    "        re = requests.get(server + prot)\n",
    "        if not re.ok:        \n",
    "            re.raise_for_status()\n",
    "    cellaneous set which groups together feature entries. Consult the DB or returned data sets to discover what is available        sys.exit()\n",
    "        records.append({'Uniprot_Acc': prot,\n",
    "                        'aa_sequence': re.json()['sequence']['sequence']})\n",
    "    return pd.DataFrame.from_records(records)"
   ]
  },
  {
   "cell_type": "markdown",
   "id": "2c65b543",
   "metadata": {},
   "source": [
    "## Get Data"
   ]
  },
  {
   "cell_type": "code",
   "execution_count": 4,
   "id": "f9b36ec9",
   "metadata": {},
   "outputs": [
    {
     "data": {
      "application/vnd.jupyter.widget-view+json": {
       "model_id": "a20131b5df0247da8ab418f85dbbf7f3",
       "version_major": 2,
       "version_minor": 0
      },
      "text/plain": [
       "0it [00:00, ?it/s]"
      ]
     },
     "metadata": {},
     "output_type": "display_data"
    }
   ],
   "source": [
    "#Get all the genes in the specified range(s)\n",
    "gene_dfs = []\n",
    "for i in range(1, 11):\n",
    "    gene_dfs.append(find_genes(i, start, end))\n",
    "gene_df = pd.concat(gene_dfs)\n",
    "\n",
    "# Get the gene sequences and join them to the gene table\n",
    "seq_df = get_gene_seqs(list(gene_df['id']))\n",
    "gene_df = gene_df.set_index('id').join(seq_df.set_index('id')[['seq']])\n",
    "\n",
    "#Get all the variants\n",
    "var_df = find_gene_variants(list(gene_df.index))"
   ]
  },
  {
   "cell_type": "code",
   "execution_count": 69,
   "id": "c60d8ccf",
   "metadata": {},
   "outputs": [
    {
     "name": "stdout",
     "output_type": "stream",
     "text": [
      "Querying variants in chunks...\n"
     ]
    },
    {
     "data": {
      "application/vnd.jupyter.widget-view+json": {
       "model_id": "807c5cbed4a446bbb4a5b8b87ede5008",
       "version_major": 2,
       "version_minor": 0
      },
      "text/plain": [
       "  0%|          | 0/208 [00:00<?, ?it/s]"
      ]
     },
     "metadata": {},
     "output_type": "display_data"
    }
   ],
   "source": [
    "#Get the variant types. TODO replace this with something faster?? It's painful as-is.\n",
    "# I saved the df for now, since it takes an hour to query all the variants..\n",
    "#var_info = pd.read_table('var_info.csv', sep=',', index_col=0) \n",
    "var_info = expand_variant_info(list(var_df['id']))"
   ]
  },
  {
   "cell_type": "code",
   "execution_count": 9,
   "id": "d7253fb8",
   "metadata": {},
   "outputs": [],
   "source": [
    "# Join extra variant data to variant table\n",
    "var_df.set_index('id', inplace=True)\n",
    "var_df = var_df.join(var_info[['most_severe_consequence', 'var_class']])"
   ]
  },
  {
   "cell_type": "code",
   "execution_count": 10,
   "id": "06a4ca02",
   "metadata": {},
   "outputs": [
    {
     "name": "stdout",
     "output_type": "stream",
     "text": [
      "Getting protein sequences. . .\n"
     ]
    },
    {
     "data": {
      "application/vnd.jupyter.widget-view+json": {
       "model_id": "7fc6d8431bb9420f98d4c203bc82b911",
       "version_major": 2,
       "version_minor": 0
      },
      "text/plain": [
       "0it [00:00, ?it/s]"
      ]
     },
     "metadata": {},
     "output_type": "display_data"
    }
   ],
   "source": [
    "# Get gene -> UniProt maps. Prompt specifies \"canonical proteins\", so we use canonical transcripts.\n",
    "gene_prot_map = get_uniprot_accessions(list(gene_df['canonical_transcript']))\n",
    "\n",
    "# Get protein sequences\n",
    "uniprot_df = get_protein_seqs(list(gene_prot_map['UniprotKB']))"
   ]
  },
  {
   "cell_type": "markdown",
   "id": "a7f73dfb",
   "metadata": {},
   "source": [
    "## Preview what the SQL tables will look like\n",
    "\n",
    "![schema](schema.png)"
   ]
  },
  {
   "cell_type": "code",
   "execution_count": 231,
   "id": "a155f996",
   "metadata": {},
   "outputs": [
    {
     "name": "stdout",
     "output_type": "stream",
     "text": [
      "Table GENE\n"
     ]
    },
    {
     "data": {
      "text/html": [
       "<div>\n",
       "<style scoped>\n",
       "    .dataframe tbody tr th:only-of-type {\n",
       "        vertical-align: middle;\n",
       "    }\n",
       "\n",
       "    .dataframe tbody tr th {\n",
       "        vertical-align: top;\n",
       "    }\n",
       "\n",
       "    .dataframe thead th {\n",
       "        text-align: right;\n",
       "    }\n",
       "</style>\n",
       "<table border=\"1\" class=\"dataframe\">\n",
       "  <thead>\n",
       "    <tr style=\"text-align: right;\">\n",
       "      <th></th>\n",
       "      <th>chromosome</th>\n",
       "      <th>start</th>\n",
       "      <th>end</th>\n",
       "      <th>external_name</th>\n",
       "      <th>seq</th>\n",
       "    </tr>\n",
       "    <tr>\n",
       "      <th>gene_id</th>\n",
       "      <th></th>\n",
       "      <th></th>\n",
       "      <th></th>\n",
       "      <th></th>\n",
       "      <th></th>\n",
       "    </tr>\n",
       "  </thead>\n",
       "  <tbody>\n",
       "    <tr>\n",
       "      <th>ENSG00000223972</th>\n",
       "      <td>1</td>\n",
       "      <td>11869</td>\n",
       "      <td>14409</td>\n",
       "      <td>DDX11L1</td>\n",
       "      <td>GTTAACTTGCCGTCAGCCTTTTCTTTGACCTCTTCTTTCTGTTCAT...</td>\n",
       "    </tr>\n",
       "    <tr>\n",
       "      <th>ENSG00000227232</th>\n",
       "      <td>1</td>\n",
       "      <td>14404</td>\n",
       "      <td>29570</td>\n",
       "      <td>WASH7P</td>\n",
       "      <td>ATGGGAGCCGTGTGCACGTCGGGAGCTCGGAGTGAGCGTGAGTTCC...</td>\n",
       "    </tr>\n",
       "    <tr>\n",
       "      <th>ENSG00000278267</th>\n",
       "      <td>1</td>\n",
       "      <td>17369</td>\n",
       "      <td>17436</td>\n",
       "      <td>MIR6859-1</td>\n",
       "      <td>TGTGGGAGAGGAACATGGGCTCAGGACAGCGGGTGTCAGCTTGCCT...</td>\n",
       "    </tr>\n",
       "    <tr>\n",
       "      <th>ENSG00000243485</th>\n",
       "      <td>1</td>\n",
       "      <td>29554</td>\n",
       "      <td>31109</td>\n",
       "      <td>MIR1302-2HG</td>\n",
       "      <td>GTGCACACGGCTCCCATGCGTTGTCTTCCGAGCGTCAGGCCGCCCC...</td>\n",
       "    </tr>\n",
       "    <tr>\n",
       "      <th>ENSG00000284332</th>\n",
       "      <td>1</td>\n",
       "      <td>30366</td>\n",
       "      <td>30503</td>\n",
       "      <td>MIR1302-2</td>\n",
       "      <td>GGATGCCCAGCTAGTTTGAATTTTAGATAAACAACGAATAATTTCG...</td>\n",
       "    </tr>\n",
       "  </tbody>\n",
       "</table>\n",
       "</div>"
      ],
      "text/plain": [
       "                chromosome  start    end external_name  \\\n",
       "gene_id                                                  \n",
       "ENSG00000223972          1  11869  14409       DDX11L1   \n",
       "ENSG00000227232          1  14404  29570        WASH7P   \n",
       "ENSG00000278267          1  17369  17436     MIR6859-1   \n",
       "ENSG00000243485          1  29554  31109   MIR1302-2HG   \n",
       "ENSG00000284332          1  30366  30503     MIR1302-2   \n",
       "\n",
       "                                                               seq  \n",
       "gene_id                                                             \n",
       "ENSG00000223972  GTTAACTTGCCGTCAGCCTTTTCTTTGACCTCTTCTTTCTGTTCAT...  \n",
       "ENSG00000227232  ATGGGAGCCGTGTGCACGTCGGGAGCTCGGAGTGAGCGTGAGTTCC...  \n",
       "ENSG00000278267  TGTGGGAGAGGAACATGGGCTCAGGACAGCGGGTGTCAGCTTGCCT...  \n",
       "ENSG00000243485  GTGCACACGGCTCCCATGCGTTGTCTTCCGAGCGTCAGGCCGCCCC...  \n",
       "ENSG00000284332  GGATGCCCAGCTAGTTTGAATTTTAGATAAACAACGAATAATTTCG...  "
      ]
     },
     "execution_count": 231,
     "metadata": {},
     "output_type": "execute_result"
    }
   ],
   "source": [
    "print(\"Table GENE\")\n",
    "gene_df.index.name = 'gene_id'\n",
    "gene_df.rename({\"seq_region_name\": 'chromosome'}, axis=1, inplace=True)\n",
    "gene_df[['chromosome', 'start', 'end', 'external_name', 'seq']].head()"
   ]
  },
  {
   "cell_type": "code",
   "execution_count": 31,
   "id": "1b6ca462",
   "metadata": {},
   "outputs": [
    {
     "name": "stdout",
     "output_type": "stream",
     "text": [
      "Table VARIANT\n"
     ]
    },
    {
     "data": {
      "text/html": [
       "<div>\n",
       "<style scoped>\n",
       "    .dataframe tbody tr th:only-of-type {\n",
       "        vertical-align: middle;\n",
       "    }\n",
       "\n",
       "    .dataframe tbody tr th {\n",
       "        vertical-align: top;\n",
       "    }\n",
       "\n",
       "    .dataframe thead th {\n",
       "        text-align: right;\n",
       "    }\n",
       "</style>\n",
       "<table border=\"1\" class=\"dataframe\">\n",
       "  <thead>\n",
       "    <tr style=\"text-align: right;\">\n",
       "      <th></th>\n",
       "      <th>chromosome</th>\n",
       "      <th>start</th>\n",
       "      <th>end</th>\n",
       "      <th>most_severe_consequence</th>\n",
       "      <th>var_class</th>\n",
       "    </tr>\n",
       "    <tr>\n",
       "      <th>variant_id</th>\n",
       "      <th></th>\n",
       "      <th></th>\n",
       "      <th></th>\n",
       "      <th></th>\n",
       "      <th></th>\n",
       "    </tr>\n",
       "  </thead>\n",
       "  <tbody>\n",
       "    <tr>\n",
       "      <th>CI1611301</th>\n",
       "      <td>10</td>\n",
       "      <td>47965</td>\n",
       "      <td>47964</td>\n",
       "      <td>coding_sequence_variant</td>\n",
       "      <td>insertion</td>\n",
       "    </tr>\n",
       "    <tr>\n",
       "      <th>CM160730</th>\n",
       "      <td>10</td>\n",
       "      <td>47706</td>\n",
       "      <td>47706</td>\n",
       "      <td>coding_sequence_variant</td>\n",
       "      <td>SNP</td>\n",
       "    </tr>\n",
       "    <tr>\n",
       "      <th>CM160731</th>\n",
       "      <td>10</td>\n",
       "      <td>47143</td>\n",
       "      <td>47143</td>\n",
       "      <td>coding_sequence_variant</td>\n",
       "      <td>SNP</td>\n",
       "    </tr>\n",
       "    <tr>\n",
       "      <th>CM160732</th>\n",
       "      <td>10</td>\n",
       "      <td>47865</td>\n",
       "      <td>47865</td>\n",
       "      <td>coding_sequence_variant</td>\n",
       "      <td>SNP</td>\n",
       "    </tr>\n",
       "    <tr>\n",
       "      <th>CM160733</th>\n",
       "      <td>10</td>\n",
       "      <td>47607</td>\n",
       "      <td>47607</td>\n",
       "      <td>coding_sequence_variant</td>\n",
       "      <td>SNP</td>\n",
       "    </tr>\n",
       "  </tbody>\n",
       "</table>\n",
       "</div>"
      ],
      "text/plain": [
       "           chromosome  start    end  most_severe_consequence  var_class\n",
       "variant_id                                                             \n",
       "CI1611301          10  47965  47964  coding_sequence_variant  insertion\n",
       "CM160730           10  47706  47706  coding_sequence_variant        SNP\n",
       "CM160731           10  47143  47143  coding_sequence_variant        SNP\n",
       "CM160732           10  47865  47865  coding_sequence_variant        SNP\n",
       "CM160733           10  47607  47607  coding_sequence_variant        SNP"
      ]
     },
     "execution_count": 31,
     "metadata": {},
     "output_type": "execute_result"
    }
   ],
   "source": [
    "print(\"Table VARIANT\")\n",
    "var_df.index.name = 'variant_id'\n",
    "var_df.rename({\"seq_region_name\": 'chromosome'}, axis=1, inplace=True)\n",
    "var_df[['chromosome', 'start', 'end', 'most_severe_consequence', 'var_class']].head()"
   ]
  },
  {
   "cell_type": "code",
   "execution_count": 33,
   "id": "86b0778b",
   "metadata": {},
   "outputs": [
    {
     "name": "stdout",
     "output_type": "stream",
     "text": [
      "Table GeneVariant\n"
     ]
    },
    {
     "data": {
      "text/html": [
       "<div>\n",
       "<style scoped>\n",
       "    .dataframe tbody tr th:only-of-type {\n",
       "        vertical-align: middle;\n",
       "    }\n",
       "\n",
       "    .dataframe tbody tr th {\n",
       "        vertical-align: top;\n",
       "    }\n",
       "\n",
       "    .dataframe thead th {\n",
       "        text-align: right;\n",
       "    }\n",
       "</style>\n",
       "<table border=\"1\" class=\"dataframe\">\n",
       "  <thead>\n",
       "    <tr style=\"text-align: right;\">\n",
       "      <th></th>\n",
       "      <th>variant_id</th>\n",
       "      <th>gene_id</th>\n",
       "    </tr>\n",
       "  </thead>\n",
       "  <tbody>\n",
       "    <tr>\n",
       "      <th>0</th>\n",
       "      <td>CI1611301</td>\n",
       "      <td>ENSG00000261456</td>\n",
       "    </tr>\n",
       "    <tr>\n",
       "      <th>1</th>\n",
       "      <td>CM160730</td>\n",
       "      <td>ENSG00000261456</td>\n",
       "    </tr>\n",
       "    <tr>\n",
       "      <th>2</th>\n",
       "      <td>CM160731</td>\n",
       "      <td>ENSG00000261456</td>\n",
       "    </tr>\n",
       "    <tr>\n",
       "      <th>3</th>\n",
       "      <td>CM160732</td>\n",
       "      <td>ENSG00000261456</td>\n",
       "    </tr>\n",
       "    <tr>\n",
       "      <th>4</th>\n",
       "      <td>CM160733</td>\n",
       "      <td>ENSG00000261456</td>\n",
       "    </tr>\n",
       "  </tbody>\n",
       "</table>\n",
       "</div>"
      ],
      "text/plain": [
       "  variant_id          gene_id\n",
       "0  CI1611301  ENSG00000261456\n",
       "1   CM160730  ENSG00000261456\n",
       "2   CM160731  ENSG00000261456\n",
       "3   CM160732  ENSG00000261456\n",
       "4   CM160733  ENSG00000261456"
      ]
     },
     "execution_count": 33,
     "metadata": {},
     "output_type": "execute_result"
    }
   ],
   "source": [
    "print('Table GeneVariant')\n",
    "var_df[['gene_id']].reset_index().head()"
   ]
  },
  {
   "cell_type": "code",
   "execution_count": 15,
   "id": "6de6f799",
   "metadata": {},
   "outputs": [
    {
     "name": "stdout",
     "output_type": "stream",
     "text": [
      "Table UniprotProtein\n"
     ]
    },
    {
     "data": {
      "text/html": [
       "<div>\n",
       "<style scoped>\n",
       "    .dataframe tbody tr th:only-of-type {\n",
       "        vertical-align: middle;\n",
       "    }\n",
       "\n",
       "    .dataframe tbody tr th {\n",
       "        vertical-align: top;\n",
       "    }\n",
       "\n",
       "    .dataframe thead th {\n",
       "        text-align: right;\n",
       "    }\n",
       "</style>\n",
       "<table border=\"1\" class=\"dataframe\">\n",
       "  <thead>\n",
       "    <tr style=\"text-align: right;\">\n",
       "      <th></th>\n",
       "      <th>Uniprot_Acc</th>\n",
       "      <th>aa_sequence</th>\n",
       "    </tr>\n",
       "  </thead>\n",
       "  <tbody>\n",
       "    <tr>\n",
       "      <th>0</th>\n",
       "      <td>Q1W6H9</td>\n",
       "      <td>MRALAALSAPPNERLLPRDPAATRDPDAARPARRSAVERLAADRAK...</td>\n",
       "    </tr>\n",
       "    <tr>\n",
       "      <th>1</th>\n",
       "      <td>A8K0Z3</td>\n",
       "      <td>MTPVRMQHSLAGQTYAVPFIQPDLRREEAVQQMADALQYLQKVSGD...</td>\n",
       "    </tr>\n",
       "    <tr>\n",
       "      <th>2</th>\n",
       "      <td>Q3ZCM7</td>\n",
       "      <td>MREIVLTQIGQCGNQIGAKFWEVISDEHAIDSAGTYHGDSHLQLER...</td>\n",
       "    </tr>\n",
       "  </tbody>\n",
       "</table>\n",
       "</div>"
      ],
      "text/plain": [
       "  Uniprot_Acc                                        aa_sequence\n",
       "0      Q1W6H9  MRALAALSAPPNERLLPRDPAATRDPDAARPARRSAVERLAADRAK...\n",
       "1      A8K0Z3  MTPVRMQHSLAGQTYAVPFIQPDLRREEAVQQMADALQYLQKVSGD...\n",
       "2      Q3ZCM7  MREIVLTQIGQCGNQIGAKFWEVISDEHAIDSAGTYHGDSHLQLER..."
      ]
     },
     "execution_count": 15,
     "metadata": {},
     "output_type": "execute_result"
    }
   ],
   "source": [
    "print(\"Table UniprotProtein\")\n",
    "uniprot_df.head()"
   ]
  },
  {
   "cell_type": "code",
   "execution_count": 16,
   "id": "bd874b06",
   "metadata": {},
   "outputs": [
    {
     "name": "stdout",
     "output_type": "stream",
     "text": [
      "Table GeneProtein\n"
     ]
    },
    {
     "data": {
      "text/html": [
       "<div>\n",
       "<style scoped>\n",
       "    .dataframe tbody tr th:only-of-type {\n",
       "        vertical-align: middle;\n",
       "    }\n",
       "\n",
       "    .dataframe tbody tr th {\n",
       "        vertical-align: top;\n",
       "    }\n",
       "\n",
       "    .dataframe thead th {\n",
       "        text-align: right;\n",
       "    }\n",
       "</style>\n",
       "<table border=\"1\" class=\"dataframe\">\n",
       "  <thead>\n",
       "    <tr style=\"text-align: right;\">\n",
       "      <th></th>\n",
       "      <th>gene_id</th>\n",
       "      <th>UniprotKB</th>\n",
       "    </tr>\n",
       "  </thead>\n",
       "  <tbody>\n",
       "    <tr>\n",
       "      <th>0</th>\n",
       "      <td>ENSG00000184731</td>\n",
       "      <td>Q1W6H9</td>\n",
       "    </tr>\n",
       "    <tr>\n",
       "      <th>1</th>\n",
       "      <td>ENSG00000181404</td>\n",
       "      <td>A8K0Z3</td>\n",
       "    </tr>\n",
       "    <tr>\n",
       "      <th>2</th>\n",
       "      <td>ENSG00000261456</td>\n",
       "      <td>Q3ZCM7</td>\n",
       "    </tr>\n",
       "  </tbody>\n",
       "</table>\n",
       "</div>"
      ],
      "text/plain": [
       "           gene_id UniprotKB\n",
       "0  ENSG00000184731    Q1W6H9\n",
       "1  ENSG00000181404    A8K0Z3\n",
       "2  ENSG00000261456    Q3ZCM7"
      ]
     },
     "execution_count": 16,
     "metadata": {},
     "output_type": "execute_result"
    }
   ],
   "source": [
    "print(\"Table GeneProtein\")\n",
    "gene_prot_map.join(gene_df.set_index('canonical_transcript'), on='ensembl_ID')[['gene_id', 'UniprotKB']].head()"
   ]
  },
  {
   "cell_type": "markdown",
   "id": "d286c345",
   "metadata": {},
   "source": [
    "## Convert tables to SQL"
   ]
  },
  {
   "cell_type": "code",
   "execution_count": 179,
   "id": "a78f97c6",
   "metadata": {},
   "outputs": [],
   "source": [
    "#var_info.to_csv('var_info.csv', sep=',')"
   ]
  },
  {
   "cell_type": "code",
   "execution_count": 19,
   "id": "e9606763",
   "metadata": {},
   "outputs": [],
   "source": [
    "from sqlalchemy import create_engine"
   ]
  },
  {
   "cell_type": "code",
   "execution_count": 233,
   "id": "88f0ba13",
   "metadata": {},
   "outputs": [],
   "source": [
    "\"\"\"\n",
    "I'm using SQLAlchemy so that I can keep everything in Python.\n",
    "Here I use SQLite in memory for simplicity, but this approach works for\n",
    "PostgreSQL, MySQL, etc etc.\n",
    "\"\"\"\n",
    "engine = create_engine('sqlite://', echo=False)"
   ]
  },
  {
   "cell_type": "code",
   "execution_count": 221,
   "id": "3fdf42c4",
   "metadata": {},
   "outputs": [],
   "source": [
    "gene_df = gene_df[['chromosome', 'start', 'end', \n",
    "         'external_name', 'seq']].drop_duplicates()\n",
    "\n",
    "var_df = var_df[['chromosome', 'start', 'end', \n",
    "        'most_severe_consequence', 'var_class', 'gene_id']].drop_duplicates()\n",
    "\n"
   ]
  },
  {
   "cell_type": "code",
   "execution_count": 234,
   "id": "127c4e4f",
   "metadata": {},
   "outputs": [],
   "source": [
    "# Make table Gene\n",
    "engine.execute(\n",
    "    \"CREATE TABLE Gene\\n\"\\\n",
    "    \"( gene_id VARCHAR PRIMARY KEY,\\n\"\\\n",
    "    \"chromosome INTEGER,\\n\"\\\n",
    "    \"start INTEGER,\\n\"\\\n",
    "    \"end INTEGER,\\n\"\\\n",
    "    \"external_name VARCHAR,\\n\"\\\n",
    "    \"seq VARCHAR\\n\"\\\n",
    "    \");\"\n",
    ")\n",
    "gene_df[['chromosome', 'start', 'end', \n",
    "         'external_name', 'seq']]\\\n",
    ".to_sql('Gene', con=engine, if_exists='append')\n",
    "\n",
    "# Make table Variant\n",
    "engine.execute(\n",
    "    \"CREATE TABLE Variant\\n\"\\\n",
    "    \"( variant_id VARCHAR PRIMARY KEY,\\n\"\\\n",
    "    \"chromosome INTEGER,\\n\"\\\n",
    "    \"start INTEGER,\\n\"\\\n",
    "    \"end INTEGER,\\n\"\\\n",
    "    \"most_severe_consequence VARCHAR,\\n\"\\\n",
    "    \"var_class VARCHAR\\n\"\\\n",
    "    \");\"\n",
    ")\n",
    "\n",
    "var_df[['chromosome', 'start', 'end', \n",
    "        'most_severe_consequence', 'var_class']]\\\n",
    ".drop_duplicates()\\\n",
    ".to_sql('Variant', con=engine, if_exists='append')\n",
    "\n",
    "#Make table GeneVariant\n",
    "engine.execute(\n",
    "    \"CREATE TABLE GeneVariant\\n\"\\\n",
    "    \"( GeneVariant_id INTEGER PRIMARY KEY AUTOINCREMENT,\\n\"\\\n",
    "    \"variant_id INTEGER NOT NULL,\\n\"\\\n",
    "    \"gene_id INTEGER NOT NULL,\\n\"\\\n",
    "    \"FOREIGN KEY (variant_id) REFERENCES Variant(variant_id),\\n\"\\\n",
    "    \"FOREIGN KEY (gene_id) REFERENCES Gene(gene_id)\\n\"\\\n",
    "    \");\"   \n",
    ")\n",
    "var_df[['gene_id']].reset_index()\\\n",
    ".drop_duplicates()\\\n",
    ".to_sql('GeneVariant', con=engine, if_exists='append', index=False)\n",
    "\n",
    "# Make Table UniprotProtein\n",
    "engine.execute(\n",
    "    \"CREATE TABLE UniprotProtein\\n\"\\\n",
    "    \"( Uniprot_acc VARCHAR PRIMARY KEY,\\n\"\\\n",
    "    \"aa_sequence VARCHAR\\n\"\\\n",
    "    \");\"\n",
    ")\n",
    "uniprot_df.rename({'Uniprot_Acc': 'Uniprot_acc'}, axis=1)\\\n",
    ".to_sql('UniprotProtein', con=engine, if_exists='append', index=False)\n",
    "\n",
    "# Make Table GeneProtein\n",
    "engine.execute(\n",
    "    \"CREATE TABLE GeneProtein\\n\"\\\n",
    "    \"( GeneProtein_id INTEGER PRIMARY KEY AUTOINCREMENT,\\n\"\\\n",
    "    \"gene_id INTEGER NOT NULL,\\n\"\\\n",
    "    \"Uniprot_acc VARCHAR NOT NULL,\\n\"\\\n",
    "    \"FOREIGN KEY (gene_id) REFERENCES Gene(gene_id),\\n\"\\\n",
    "    \"FOREIGN KEY (Uniprot_acc) REFERENCES UniprotProtein(Uniprot_acc)\\n\"\\\n",
    "    \");\"\n",
    ")\n",
    "gene_prot_map.\\\n",
    "join(gene_df.set_index('canonical_transcript'), on='ensembl_ID')[['gene_id', 'UniprotKB']]\\\n",
    ".rename({'UniprotKB': \"Uniprot_acc\"}, axis=1)\\\n",
    ".to_sql(\"GeneProtein\", con=engine, index=False, if_exists='append')"
   ]
  },
  {
   "cell_type": "markdown",
   "id": "767ebe30",
   "metadata": {},
   "source": [
    "## Execute tech exam queries"
   ]
  },
  {
   "cell_type": "code",
   "execution_count": 235,
   "id": "4b5da4b2",
   "metadata": {},
   "outputs": [
    {
     "data": {
      "text/html": [
       "<div>\n",
       "<style scoped>\n",
       "    .dataframe tbody tr th:only-of-type {\n",
       "        vertical-align: middle;\n",
       "    }\n",
       "\n",
       "    .dataframe tbody tr th {\n",
       "        vertical-align: top;\n",
       "    }\n",
       "\n",
       "    .dataframe thead th {\n",
       "        text-align: right;\n",
       "    }\n",
       "</style>\n",
       "<table border=\"1\" class=\"dataframe\">\n",
       "  <thead>\n",
       "    <tr style=\"text-align: right;\">\n",
       "      <th></th>\n",
       "      <th>variant_count</th>\n",
       "      <th>chromosome</th>\n",
       "    </tr>\n",
       "  </thead>\n",
       "  <tbody>\n",
       "    <tr>\n",
       "      <th>0</th>\n",
       "      <td>15391</td>\n",
       "      <td>9</td>\n",
       "    </tr>\n",
       "  </tbody>\n",
       "</table>\n",
       "</div>"
      ],
      "text/plain": [
       "   variant_count  chromosome\n",
       "0          15391           9"
      ]
     },
     "execution_count": 235,
     "metadata": {},
     "output_type": "execute_result"
    }
   ],
   "source": [
    "# \"Chromosome with most variants\"\n",
    "\n",
    "result = engine.execute(\n",
    "    \"SELECT COUNT(variant_id), chromosome\\n\"\\\n",
    "    \"FROM Variant\\n\"\\\n",
    "    \"GROUP BY chromosome\\n\"\\\n",
    "    \"ORDER BY COUNT(variant_id) DESC\\n\"\\\n",
    "    \"LIMIT 1;\"\n",
    ").fetchall()\n",
    "\n",
    "#pretty print result with pandas\n",
    "pd.DataFrame.from_records(result, columns=['variant_count', 'chromosome'])"
   ]
  },
  {
   "cell_type": "code",
   "execution_count": 236,
   "id": "05a02551",
   "metadata": {},
   "outputs": [
    {
     "data": {
      "text/html": [
       "<div>\n",
       "<style scoped>\n",
       "    .dataframe tbody tr th:only-of-type {\n",
       "        vertical-align: middle;\n",
       "    }\n",
       "\n",
       "    .dataframe tbody tr th {\n",
       "        vertical-align: top;\n",
       "    }\n",
       "\n",
       "    .dataframe thead th {\n",
       "        text-align: right;\n",
       "    }\n",
       "</style>\n",
       "<table border=\"1\" class=\"dataframe\">\n",
       "  <thead>\n",
       "    <tr style=\"text-align: right;\">\n",
       "      <th></th>\n",
       "      <th>variant_id</th>\n",
       "      <th>chromosome</th>\n",
       "      <th>min_start</th>\n",
       "    </tr>\n",
       "  </thead>\n",
       "  <tbody>\n",
       "    <tr>\n",
       "      <th>0</th>\n",
       "      <td>rs111341249</td>\n",
       "      <td>1</td>\n",
       "      <td>12053</td>\n",
       "    </tr>\n",
       "    <tr>\n",
       "      <th>1</th>\n",
       "      <td>rs886132548</td>\n",
       "      <td>2</td>\n",
       "      <td>38822</td>\n",
       "    </tr>\n",
       "    <tr>\n",
       "      <th>2</th>\n",
       "      <td>rs1559193114</td>\n",
       "      <td>3</td>\n",
       "      <td>11721</td>\n",
       "    </tr>\n",
       "    <tr>\n",
       "      <th>3</th>\n",
       "      <td>rs1159570683</td>\n",
       "      <td>4</td>\n",
       "      <td>49096</td>\n",
       "    </tr>\n",
       "    <tr>\n",
       "      <th>4</th>\n",
       "      <td>rs4117995</td>\n",
       "      <td>7</td>\n",
       "      <td>12709</td>\n",
       "    </tr>\n",
       "    <tr>\n",
       "      <th>5</th>\n",
       "      <td>rs1429941440</td>\n",
       "      <td>9</td>\n",
       "      <td>12117</td>\n",
       "    </tr>\n",
       "    <tr>\n",
       "      <th>6</th>\n",
       "      <td>rs1350896776</td>\n",
       "      <td>10</td>\n",
       "      <td>14086</td>\n",
       "    </tr>\n",
       "  </tbody>\n",
       "</table>\n",
       "</div>"
      ],
      "text/plain": [
       "     variant_id  chromosome  min_start\n",
       "0   rs111341249           1      12053\n",
       "1   rs886132548           2      38822\n",
       "2  rs1559193114           3      11721\n",
       "3  rs1159570683           4      49096\n",
       "4     rs4117995           7      12709\n",
       "5  rs1429941440           9      12117\n",
       "6  rs1350896776          10      14086"
      ]
     },
     "execution_count": 236,
     "metadata": {},
     "output_type": "execute_result"
    }
   ],
   "source": [
    "# \"First variant in each chromosome\"\n",
    "result = engine.execute(\n",
    "    \"SELECT variant_id, chromosome, min(start)\\n\"\\\n",
    "    \"FROM Variant\\n\"\\\n",
    "    \"GROUP BY chromosome;\"\\\n",
    ").fetchall()\n",
    "\n",
    "#Pretty print the result using pandas\n",
    "pd.DataFrame.from_records(result, columns=['variant_id', 'chromosome', 'min_start'])"
   ]
  },
  {
   "cell_type": "code",
   "execution_count": 308,
   "id": "14c14c2b",
   "metadata": {},
   "outputs": [
    {
     "data": {
      "text/html": [
       "<div>\n",
       "<style scoped>\n",
       "    .dataframe tbody tr th:only-of-type {\n",
       "        vertical-align: middle;\n",
       "    }\n",
       "\n",
       "    .dataframe tbody tr th {\n",
       "        vertical-align: top;\n",
       "    }\n",
       "\n",
       "    .dataframe thead th {\n",
       "        text-align: right;\n",
       "    }\n",
       "</style>\n",
       "<table border=\"1\" class=\"dataframe\">\n",
       "  <thead>\n",
       "    <tr style=\"text-align: right;\">\n",
       "      <th></th>\n",
       "      <th>chromosome</th>\n",
       "      <th>var_class</th>\n",
       "      <th>count_var_class</th>\n",
       "    </tr>\n",
       "  </thead>\n",
       "  <tbody>\n",
       "    <tr>\n",
       "      <th>0</th>\n",
       "      <td>1</td>\n",
       "      <td>SNP</td>\n",
       "      <td>3102</td>\n",
       "    </tr>\n",
       "    <tr>\n",
       "      <th>1</th>\n",
       "      <td>2</td>\n",
       "      <td>SNP</td>\n",
       "      <td>2001</td>\n",
       "    </tr>\n",
       "    <tr>\n",
       "      <th>2</th>\n",
       "      <td>3</td>\n",
       "      <td>SNP</td>\n",
       "      <td>3723</td>\n",
       "    </tr>\n",
       "    <tr>\n",
       "      <th>3</th>\n",
       "      <td>4</td>\n",
       "      <td>SNP</td>\n",
       "      <td>323</td>\n",
       "    </tr>\n",
       "    <tr>\n",
       "      <th>4</th>\n",
       "      <td>7</td>\n",
       "      <td>SNP</td>\n",
       "      <td>3214</td>\n",
       "    </tr>\n",
       "    <tr>\n",
       "      <th>5</th>\n",
       "      <td>9</td>\n",
       "      <td>SNP</td>\n",
       "      <td>14257</td>\n",
       "    </tr>\n",
       "    <tr>\n",
       "      <th>6</th>\n",
       "      <td>10</td>\n",
       "      <td>SNP</td>\n",
       "      <td>9141</td>\n",
       "    </tr>\n",
       "  </tbody>\n",
       "</table>\n",
       "</div>"
      ],
      "text/plain": [
       "   chromosome var_class  count_var_class\n",
       "0           1       SNP             3102\n",
       "1           2       SNP             2001\n",
       "2           3       SNP             3723\n",
       "3           4       SNP              323\n",
       "4           7       SNP             3214\n",
       "5           9       SNP            14257\n",
       "6          10       SNP             9141"
      ]
     },
     "execution_count": 308,
     "metadata": {},
     "output_type": "execute_result"
    }
   ],
   "source": [
    "# \"Most Common variant type per chromosome\"\n",
    "result = engine.execute(\n",
    "    \"SELECT a.chromosome, a.var_class, MAX(a.var_class_count)\\n\"\\\n",
    "    \"FROM (\\n\"\\\n",
    "    \"SELECT chromosome, var_class, COUNT(var_class) as var_class_count\\n\"\\\n",
    "    \"FROM Variant\\n\"\\\n",
    "    \"GROUP BY chromosome, var_class) as a\\n\"\\\n",
    "    \"GROUP BY a.chromosome;\"\n",
    "    \n",
    ")\n",
    "pd.DataFrame.from_records(result, columns=['chromosome', 'var_class', 'count_var_class'])"
   ]
  },
  {
   "cell_type": "code",
   "execution_count": 313,
   "id": "7b65da1b",
   "metadata": {},
   "outputs": [
    {
     "data": {
      "text/html": [
       "<div>\n",
       "<style scoped>\n",
       "    .dataframe tbody tr th:only-of-type {\n",
       "        vertical-align: middle;\n",
       "    }\n",
       "\n",
       "    .dataframe tbody tr th {\n",
       "        vertical-align: top;\n",
       "    }\n",
       "\n",
       "    .dataframe thead th {\n",
       "        text-align: right;\n",
       "    }\n",
       "</style>\n",
       "<table border=\"1\" class=\"dataframe\">\n",
       "  <thead>\n",
       "    <tr style=\"text-align: right;\">\n",
       "      <th></th>\n",
       "      <th>var_class</th>\n",
       "      <th>count_var_class</th>\n",
       "    </tr>\n",
       "  </thead>\n",
       "  <tbody>\n",
       "    <tr>\n",
       "      <th>0</th>\n",
       "      <td>SNP</td>\n",
       "      <td>35761</td>\n",
       "    </tr>\n",
       "  </tbody>\n",
       "</table>\n",
       "</div>"
      ],
      "text/plain": [
       "  var_class  count_var_class\n",
       "0       SNP            35761"
      ]
     },
     "execution_count": 313,
     "metadata": {},
     "output_type": "execute_result"
    }
   ],
   "source": [
    "# \"Most common variant type overall\"\n",
    "result = engine.execute(\n",
    "    \"SELECT a.var_class, MAX(a.var_class_count)\\n\"\\\n",
    "    \"FROM (\\n\"\\\n",
    "    \"SELECT var_class, COUNT(var_class) as var_class_count\\n\"\\\n",
    "    \"FROM Variant\\n\"\\\n",
    "    \"GROUP BY var_class) as a;\"\n",
    ")\n",
    "pd.DataFrame.from_records(result, columns=['var_class', 'count_var_class'])"
   ]
  },
  {
   "cell_type": "code",
   "execution_count": 237,
   "id": "77294862",
   "metadata": {},
   "outputs": [
    {
     "data": {
      "text/html": [
       "<div>\n",
       "<style scoped>\n",
       "    .dataframe tbody tr th:only-of-type {\n",
       "        vertical-align: middle;\n",
       "    }\n",
       "\n",
       "    .dataframe tbody tr th {\n",
       "        vertical-align: top;\n",
       "    }\n",
       "\n",
       "    .dataframe thead th {\n",
       "        text-align: right;\n",
       "    }\n",
       "</style>\n",
       "<table border=\"1\" class=\"dataframe\">\n",
       "  <thead>\n",
       "    <tr style=\"text-align: right;\">\n",
       "      <th></th>\n",
       "      <th>gene_id</th>\n",
       "      <th>variant_count</th>\n",
       "    </tr>\n",
       "  </thead>\n",
       "  <tbody>\n",
       "    <tr>\n",
       "      <th>0</th>\n",
       "      <td>ENSG00000181404</td>\n",
       "      <td>14716</td>\n",
       "    </tr>\n",
       "  </tbody>\n",
       "</table>\n",
       "</div>"
      ],
      "text/plain": [
       "           gene_id  variant_count\n",
       "0  ENSG00000181404          14716"
      ]
     },
     "execution_count": 237,
     "metadata": {},
     "output_type": "execute_result"
    }
   ],
   "source": [
    "# \"Gene(s) with most variants\"\n",
    "result = engine.execute(\n",
    "    \"SELECT A.gene_id, count(A.variant_id)\\n\"\\\n",
    "    \"FROM (Gene\\n\"\\\n",
    "    \"INNER JOIN GeneVariant\\n\"\\\n",
    "    \"ON Gene.gene_id = GeneVariant.gene_id) AS A\\n\"\\\n",
    "    \"GROUP BY A.gene_id\\n\"\\\n",
    "    \"ORDER BY count(A.variant_id) DESC\\n\"\\\n",
    "    \"LIMIT 1;\"\n",
    ").fetchall()\n",
    "\n",
    "pd.DataFrame.from_records(result, columns=['gene_id', 'variant_count'])"
   ]
  },
  {
   "cell_type": "markdown",
   "id": "c8697726",
   "metadata": {},
   "source": [
    "## Extra: Plots\n",
    "\n",
    "Sometimes the info is better to look at with plots."
   ]
  },
  {
   "cell_type": "code",
   "execution_count": 206,
   "id": "2ec160fd",
   "metadata": {},
   "outputs": [],
   "source": [
    "import seaborn as sns\n",
    "import matplotlib.pyplot as plt"
   ]
  },
  {
   "cell_type": "code",
   "execution_count": 251,
   "id": "8a9af62c",
   "metadata": {},
   "outputs": [
    {
     "data": {
      "text/html": [
       "<div>\n",
       "<style scoped>\n",
       "    .dataframe tbody tr th:only-of-type {\n",
       "        vertical-align: middle;\n",
       "    }\n",
       "\n",
       "    .dataframe tbody tr th {\n",
       "        vertical-align: top;\n",
       "    }\n",
       "\n",
       "    .dataframe thead th {\n",
       "        text-align: right;\n",
       "    }\n",
       "</style>\n",
       "<table border=\"1\" class=\"dataframe\">\n",
       "  <thead>\n",
       "    <tr style=\"text-align: right;\">\n",
       "      <th></th>\n",
       "      <th>chromosome</th>\n",
       "      <th>variant_id</th>\n",
       "    </tr>\n",
       "  </thead>\n",
       "  <tbody>\n",
       "    <tr>\n",
       "      <th>0</th>\n",
       "      <td>1</td>\n",
       "      <td>3371</td>\n",
       "    </tr>\n",
       "    <tr>\n",
       "      <th>2</th>\n",
       "      <td>2</td>\n",
       "      <td>2118</td>\n",
       "    </tr>\n",
       "    <tr>\n",
       "      <th>3</th>\n",
       "      <td>3</td>\n",
       "      <td>4064</td>\n",
       "    </tr>\n",
       "    <tr>\n",
       "      <th>4</th>\n",
       "      <td>4</td>\n",
       "      <td>352</td>\n",
       "    </tr>\n",
       "    <tr>\n",
       "      <th>2</th>\n",
       "      <td>5</td>\n",
       "      <td>0</td>\n",
       "    </tr>\n",
       "    <tr>\n",
       "      <th>1</th>\n",
       "      <td>6</td>\n",
       "      <td>0</td>\n",
       "    </tr>\n",
       "    <tr>\n",
       "      <th>5</th>\n",
       "      <td>7</td>\n",
       "      <td>3554</td>\n",
       "    </tr>\n",
       "    <tr>\n",
       "      <th>0</th>\n",
       "      <td>8</td>\n",
       "      <td>0</td>\n",
       "    </tr>\n",
       "    <tr>\n",
       "      <th>6</th>\n",
       "      <td>9</td>\n",
       "      <td>15391</td>\n",
       "    </tr>\n",
       "    <tr>\n",
       "      <th>1</th>\n",
       "      <td>10</td>\n",
       "      <td>10039</td>\n",
       "    </tr>\n",
       "  </tbody>\n",
       "</table>\n",
       "</div>"
      ],
      "text/plain": [
       "   chromosome  variant_id\n",
       "0           1        3371\n",
       "2           2        2118\n",
       "3           3        4064\n",
       "4           4         352\n",
       "2           5           0\n",
       "1           6           0\n",
       "5           7        3554\n",
       "0           8           0\n",
       "6           9       15391\n",
       "1          10       10039"
      ]
     },
     "execution_count": 251,
     "metadata": {},
     "output_type": "execute_result"
    }
   ],
   "source": [
    "var_count = var_df.reset_index()[['variant_id','chromosome']].drop_duplicates().groupby('chromosome').count()\n",
    "var_count.reset_index(inplace=True)\n",
    "missing = set(str(i) for i in range(1,11)) - set(var_count['chromosome'])\n",
    "records = [{'chromosome': i, 'variant_id': 0} for i in missing]\n",
    "var_count = pd.concat([var_count, pd.DataFrame.from_records(records)])\n",
    "var_count['chromosome'] = var_count['chromosome'].apply(lambda x: int(x))\n",
    "var_count.sort_values(by='chromosome', inplace=True)\n",
    "var_count\n",
    "\n"
   ]
  },
  {
   "cell_type": "code",
   "execution_count": 278,
   "id": "96f1562a",
   "metadata": {},
   "outputs": [],
   "source": [
    "class_count = var_df.reset_index()[['variant_id', 'var_class', 'chromosome']].drop_duplicates().groupby(['chromosome', 'var_class']).count().unstack(fill_value=0).stack()\n",
    "class_count.reset_index(inplace=True)\n",
    "classes = class_count['var_class'].unique()\n",
    "records = []\n",
    "for i in missing:\n",
    "    for j in classes:\n",
    "        records.append({'chromosome': i, 'var_class': j, 'variant_id':0})\n",
    "        \n",
    "class_count = pd.concat([class_count, pd.DataFrame.from_records(records)])    \n",
    "class_count['chromosome'] = class_count['chromosome'].apply(lambda x: int(x))\n",
    "class_count.sort_values(by=['chromosome', 'var_class'], inplace=True)\n"
   ]
  },
  {
   "cell_type": "code",
   "execution_count": 261,
   "id": "e1bc77dd",
   "metadata": {},
   "outputs": [
    {
     "data": {
      "image/png": "[encoded data removed]",
      "text/plain": [
       "<Figure size 864x864 with 1 Axes>"
      ]
     },
     "metadata": {},
     "output_type": "display_data"
    }
   ],
   "source": [
    "sns.set()\n",
    "fig, ax = plt.subplots(figsize=(12,12))\n",
    "ax = plt.bar(x=var_count['chromosome'],\n",
    "             height=var_count['variant_id'],\n",
    "             tick_label=var_count['chromosome'],)\n",
    "\n",
    "plt.xlabel('Chromosome')\n",
    "plt.ylabel('Number of Variants')\n",
    "plt.show()"
   ]
  },
  {
   "cell_type": "code",
   "execution_count": 285,
   "id": "04b1bf45",
   "metadata": {},
   "outputs": [
    {
     "data": {
      "image/png": "[encoded data removed]",
      "text/plain": [
       "<Figure size 864x864 with 1 Axes>"
      ]
     },
     "metadata": {},
     "output_type": "display_data"
    }
   ],
   "source": [
    "sns.set()\n",
    "fig, ax = plt.subplots(figsize=(12,12))\n",
    "\n",
    "for vclass in class_count['var_class'].unique():\n",
    "    df = class_count[class_count['var_class']==vclass]\n",
    "    ax.bar(\n",
    "        x = df['chromosome'],\n",
    "        height = df['variant_id'],\n",
    "        label=vclass\n",
    "    )\n",
    "\n",
    "\n",
    "ax.set_xlabel('Chromosome')\n",
    "ax.set_ylabel('Number of Variants')\n",
    "ax.legend()\n",
    "plt.show()"
   ]
  },
  {
   "cell_type": "code",
   "execution_count": 283,
   "id": "0b783989",
   "metadata": {},
   "outputs": [
    {
     "data": {
      "image/png": "[encoded data removed]",
      "text/plain": [
       "<Figure size 864x864 with 1 Axes>"
      ]
     },
     "metadata": {},
     "output_type": "display_data"
    }
   ],
   "source": [
    "sns.set()\n",
    "fig, ax = plt.subplots(figsize=(12,12))\n",
    "\n",
    "for vclass in class_count['var_class'].unique():\n",
    "    if vclass==\"SNP\":\n",
    "        continue\n",
    "    df = class_count[class_count['var_class']==vclass]\n",
    "    ax.bar(\n",
    "        x = df['chromosome'],\n",
    "        height = df['variant_id'],\n",
    "        label=vclass\n",
    "    )\n",
    "\n",
    "\n",
    "ax.set_xlabel('Chromosome')\n",
    "ax.set_ylabel('Number of Variants')\n",
    "ax.legend()\n",
    "plt.show()"
   ]
  }
 ],
 "metadata": {
  "kernelspec": {
   "display_name": "Python 3 (ipykernel)",
   "language": "python",
   "name": "python3"
  },
  "language_info": {
   "codemirror_mode": {
    "name": "ipython",
    "version": 3
   },
   "file_extension": ".py",
   "mimetype": "text/x-python",
   "name": "python",
   "nbconvert_exporter": "python",
   "pygments_lexer": "ipython3",
   "version": "3.9.7"
  }
 },
 "nbformat": 4,
 "nbformat_minor": 5
}
